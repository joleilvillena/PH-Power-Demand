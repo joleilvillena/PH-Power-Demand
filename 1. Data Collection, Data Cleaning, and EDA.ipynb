{
 "cells": [
  {
   "cell_type": "markdown",
   "metadata": {},
   "source": [
    "[Joleil Villena](https://linkedin.com/in/joleilvillena) - Eskwelabs DS Cohort 5 - Capstone"
   ]
  },
  {
   "cell_type": "markdown",
   "metadata": {},
   "source": [
    "# Forecasting the Power Demand of the Luzon Electrical Grid using Clustering and Predictive Modeling"
   ]
  },
  {
   "cell_type": "code",
   "execution_count": null,
   "metadata": {},
   "outputs": [],
   "source": [
    "# Check installed version of python\n",
    "!python --version"
   ]
  },
  {
   "cell_type": "code",
   "execution_count": null,
   "metadata": {},
   "outputs": [],
   "source": [
    "# Import packages\n",
    "\n",
    "## Merging of files\n",
    "import os\n",
    "#import glob\n",
    "\n",
    "## Data manipulation and charting\n",
    "import pandas as pd\n",
    "import numpy as np\n",
    "import datetime as dt\n",
    "import matplotlib.pyplot as plt\n",
    "import seaborn as sns\n",
    "\n",
    "%matplotlib inline"
   ]
  },
  {
   "cell_type": "markdown",
   "metadata": {},
   "source": [
    "# Data collection\n",
    "\n",
    "Data from 01-Jan-2019 to 15-Jul-2020 was taken from the [Independent Electricity Market Operator of the Philippines (IEMOP)](https://www.iemop.ph/).\\\n",
    "http://180.232.125.102/inner.php/downloads"
   ]
  },
  {
   "cell_type": "markdown",
   "metadata": {},
   "source": [
    "# Merging of the data set\n",
    "Combining hourly demand-side data downloaded from IEMOP."
   ]
  },
  {
   "cell_type": "code",
   "execution_count": null,
   "metadata": {
    "scrolled": true
   },
   "outputs": [],
   "source": [
    "# Set the working directory\n",
    "### Note: Update and set the directory to the location of the 5-min interval data, with the location containing those files only.\n",
    "#os.chdir(\"/Users/Joleil/Eskwelabs/Capstone/Data\")"
   ]
  },
  {
   "cell_type": "code",
   "execution_count": null,
   "metadata": {},
   "outputs": [],
   "source": [
    "# Use glob to match the pattern 'csv'\n",
    "#extension = 'csv'\n",
    "#all_filenames = [i for i in glob.glob('*.{}'.format(extension))]"
   ]
  },
  {
   "cell_type": "code",
   "execution_count": null,
   "metadata": {},
   "outputs": [],
   "source": [
    "# Check included files\n",
    "#all_filenames\n",
    "\n",
    "### Observation: Files from 2-Sep-2020 to 3-Sep-2020 "
   ]
  },
  {
   "cell_type": "code",
   "execution_count": null,
   "metadata": {},
   "outputs": [],
   "source": [
    "# Combine all files in the list \n",
    "#merged_csv = pd.concat([pd.read_csv(f) for f in all_filenames ])"
   ]
  },
  {
   "cell_type": "code",
   "execution_count": null,
   "metadata": {},
   "outputs": [],
   "source": [
    "# Export to csv file\n",
    "#merged_csv.to_csv(\"Hourly_Demand.csv\", index=False, encoding='utf-8-sig')"
   ]
  },
  {
   "cell_type": "markdown",
   "metadata": {},
   "source": [
    "### Using merged data set\n",
    "Using one file with data extracted from IEMOP."
   ]
  },
  {
   "cell_type": "code",
   "execution_count": null,
   "metadata": {},
   "outputs": [],
   "source": [
    "# Load and preview merged data set\n",
    "df_hourly_demand = pd.read_csv('Hourly_Demand.csv')\n",
    "df_hourly_demand"
   ]
  },
  {
   "cell_type": "markdown",
   "metadata": {},
   "source": [
    "# Data cleaning"
   ]
  },
  {
   "cell_type": "code",
   "execution_count": null,
   "metadata": {},
   "outputs": [],
   "source": [
    "# Show all column names\n",
    "df_hourly_demand.columns"
   ]
  },
  {
   "cell_type": "code",
   "execution_count": null,
   "metadata": {},
   "outputs": [],
   "source": [
    "# Show descriptive statistics of columns with numerical values\n",
    "df_hourly_demand.describe()\n",
    "\n",
    "### Note: Ignore statistics for columns that pertain to details on time."
   ]
  },
  {
   "cell_type": "code",
   "execution_count": null,
   "metadata": {},
   "outputs": [],
   "source": [
    "# Check the number of rows per column\n",
    "# Check if there are any null values present in any column\n",
    "df_hourly_demand.info()\n",
    "\n",
    "### Observation: All columns have the same number of values."
   ]
  },
  {
   "cell_type": "markdown",
   "metadata": {},
   "source": [
    "### Report"
   ]
  },
  {
   "cell_type": "code",
   "execution_count": null,
   "metadata": {},
   "outputs": [],
   "source": [
    "df_hourly_demand['report'].unique()\n",
    "### Observation: All rows are data from 'RTX' report."
   ]
  },
  {
   "cell_type": "code",
   "execution_count": null,
   "metadata": {},
   "outputs": [],
   "source": [
    "# Drop 'report' column\n",
    "df_hourly_demand = df_hourly_demand.drop(columns=['report'])"
   ]
  },
  {
   "cell_type": "markdown",
   "metadata": {},
   "source": [
    "### Region"
   ]
  },
  {
   "cell_type": "code",
   "execution_count": null,
   "metadata": {},
   "outputs": [],
   "source": [
    "# Check if there are rows that have data on regions other than Luzon\n",
    "df_hourly_demand['region'].nunique()\n",
    "### Observation: Data for Luzon is present. Some rows seem to have null values, labeled as 'nan'."
   ]
  },
  {
   "cell_type": "code",
   "execution_count": null,
   "metadata": {},
   "outputs": [],
   "source": [
    "# Check rows that have data on regions other than Luzon\n",
    "df_hourly_demand[df_hourly_demand['region'] != 'LUZON']"
   ]
  },
  {
   "cell_type": "code",
   "execution_count": null,
   "metadata": {},
   "outputs": [],
   "source": [
    "# Remove data on regions other than Luzon\n",
    "df_hourly_demand = df_hourly_demand[df_hourly_demand['region'] == 'LUZON']\n",
    "\n",
    "# Preview data frame\n",
    "df_hourly_demand"
   ]
  },
  {
   "cell_type": "code",
   "execution_count": null,
   "metadata": {},
   "outputs": [],
   "source": [
    "# Check the origin of data \n",
    "df_hourly_demand['region'].unique()"
   ]
  },
  {
   "cell_type": "code",
   "execution_count": null,
   "metadata": {},
   "outputs": [],
   "source": [
    "# Remove data from regions other than Luzon\n",
    "df_hourly_demand[df_hourly_demand['region'] != 'LUZON']"
   ]
  },
  {
   "cell_type": "code",
   "execution_count": null,
   "metadata": {},
   "outputs": [],
   "source": [
    "# Check the updated count of entries\n",
    "df_hourly_demand.info()\n",
    "### Observation: All rows have non-null values for all columns."
   ]
  },
  {
   "cell_type": "code",
   "execution_count": null,
   "metadata": {},
   "outputs": [],
   "source": [
    "# Check updated descriptive statistics of numerical columns\n",
    "df_hourly_demand.describe()"
   ]
  },
  {
   "cell_type": "code",
   "execution_count": null,
   "metadata": {},
   "outputs": [],
   "source": [
    "# Drop 'region' column since only data from Luzon is present\n",
    "df_hourly_demand = df_hourly_demand.drop(columns=['region'])"
   ]
  },
  {
   "cell_type": "code",
   "execution_count": null,
   "metadata": {},
   "outputs": [],
   "source": [
    "# Check remaining columns\n",
    "df_hourly_demand.columns"
   ]
  },
  {
   "cell_type": "markdown",
   "metadata": {},
   "source": [
    "### Type"
   ]
  },
  {
   "cell_type": "code",
   "execution_count": null,
   "metadata": {},
   "outputs": [],
   "source": [
    "df_hourly_demand['type'].unique()\n",
    "### Observation: All rows are data of 'LD' type."
   ]
  },
  {
   "cell_type": "code",
   "execution_count": null,
   "metadata": {},
   "outputs": [],
   "source": [
    "# Drop 'type' column\n",
    "df_hourly_demand = df_hourly_demand.drop(columns=['type'])"
   ]
  },
  {
   "cell_type": "code",
   "execution_count": null,
   "metadata": {},
   "outputs": [],
   "source": [
    "# Check remaining columns\n",
    "df_hourly_demand.columns"
   ]
  },
  {
   "cell_type": "markdown",
   "metadata": {},
   "source": [
    "### Date-Time"
   ]
  },
  {
   "cell_type": "code",
   "execution_count": null,
   "metadata": {},
   "outputs": [],
   "source": [
    "# Format 'date' column\n",
    "df_hourly_demand['date'] = pd.to_datetime(df_hourly_demand['date'])"
   ]
  },
  {
   "cell_type": "markdown",
   "metadata": {},
   "source": [
    "- Date"
   ]
  },
  {
   "cell_type": "code",
   "execution_count": null,
   "metadata": {},
   "outputs": [],
   "source": [
    "# Extract 'year' data from 'date' column\n",
    "df_hourly_demand['year' ] = df_hourly_demand['date'].dt.year\n",
    "\n",
    "# Check data on years \n",
    "print(\"Year/s covered:\", df_hourly_demand['year'].unique())"
   ]
  },
  {
   "cell_type": "code",
   "execution_count": null,
   "metadata": {},
   "outputs": [],
   "source": [
    "# Extract 'month' data from 'date' column\n",
    "df_hourly_demand['month'] = df_hourly_demand['date'].dt.month\n",
    "\n",
    "# Check data  on months \n",
    "print(\"Month/s covered:\", df_hourly_demand['month'].unique())"
   ]
  },
  {
   "cell_type": "code",
   "execution_count": null,
   "metadata": {},
   "outputs": [],
   "source": [
    "# Extract 'day' data from 'date' column\n",
    "df_hourly_demand['day'] = df_hourly_demand['date'].dt.day\n",
    "\n",
    "# Check data on days\n",
    "print(\"Day/s of the month covered:\", df_hourly_demand['day'].unique())"
   ]
  },
  {
   "cell_type": "code",
   "execution_count": null,
   "metadata": {},
   "outputs": [],
   "source": [
    "# Extract 'weekday' data from 'date' column\n",
    "df_hourly_demand['weekday'] = df_hourly_demand['date'].dt.weekday\n",
    "\n",
    "# Check data on weekdays\n",
    "print(\"Weekday/s covered:\", df_hourly_demand['weekday'].unique())"
   ]
  },
  {
   "cell_type": "markdown",
   "metadata": {},
   "source": [
    "  - Hour"
   ]
  },
  {
   "cell_type": "code",
   "execution_count": null,
   "metadata": {},
   "outputs": [],
   "source": [
    "# Subtract an hour from the time of transactions\n",
    "### Note: An hour is subtracted per entry in the 'hour' column due to the nature of data collection wherein data is recorded after the hour that the transaction occured.\n",
    "df_hourly_demand['hour'] = df_hourly_demand['hour'].apply(lambda x: int(x-1))\n",
    "\n",
    "# Keep the integer data type for charting purposes\n",
    "df_hourly_demand['hour_int'] = df_hourly_demand['hour']\n",
    "\n",
    "# Check data\n",
    "df_hourly_demand['hour_int'].unique()"
   ]
  },
  {
   "cell_type": "code",
   "execution_count": null,
   "metadata": {},
   "outputs": [],
   "source": [
    "# Format 'hour' column containing formatted 'hour' data\n",
    "df_hourly_demand['hour'] = df_hourly_demand['hour'].astype('str').apply(lambda x: dt.datetime.strptime(x, '%H'))\n",
    "df_hourly_demand['hour'] = df_hourly_demand['hour'].dt.time"
   ]
  },
  {
   "cell_type": "code",
   "execution_count": null,
   "metadata": {},
   "outputs": [],
   "source": [
    "# Check data\n",
    "df_hourly_demand['hour'].unique()"
   ]
  },
  {
   "cell_type": "code",
   "execution_count": null,
   "metadata": {},
   "outputs": [],
   "source": [
    "# Check data on hours\n",
    "df_hourly_demand['hour'].nunique()\n",
    "### Observation: There is data for all hours in a day (i.e. 1 to 24), so the market is operational for 24 hours in a day."
   ]
  },
  {
   "cell_type": "code",
   "execution_count": null,
   "metadata": {},
   "outputs": [],
   "source": [
    "# Preview data frame\n",
    "df_hourly_demand"
   ]
  },
  {
   "cell_type": "markdown",
   "metadata": {},
   "source": [
    "- Date-Hour"
   ]
  },
  {
   "cell_type": "code",
   "execution_count": null,
   "metadata": {},
   "outputs": [],
   "source": [
    "# Check the data type of the 'date' column\n",
    "df_hourly_demand['date'].dtype"
   ]
  },
  {
   "cell_type": "code",
   "execution_count": null,
   "metadata": {},
   "outputs": [],
   "source": [
    "# Check the data type of the 'hour' column\n",
    "df_hourly_demand['hour'].dtype"
   ]
  },
  {
   "cell_type": "code",
   "execution_count": null,
   "metadata": {},
   "outputs": [],
   "source": [
    "\n",
    "df_hourly_demand['date'] = pd.to_datetime((df_hourly_demand['date']))\n",
    "df_hourly_demand['hour'] = pd.to_timedelta(df_hourly_demand['hour'].astype('str'))\n",
    "df_hourly_demand['date_hour'] = df_hourly_demand['date'] + df_hourly_demand['hour']"
   ]
  },
  {
   "cell_type": "code",
   "execution_count": null,
   "metadata": {},
   "outputs": [],
   "source": [
    "# Preview data frame\n",
    "df_hourly_demand"
   ]
  },
  {
   "cell_type": "code",
   "execution_count": null,
   "metadata": {},
   "outputs": [],
   "source": [
    "df_hourly_demand['date_hour'].nunique()"
   ]
  },
  {
   "cell_type": "markdown",
   "metadata": {},
   "source": [
    "#### Participants"
   ]
  },
  {
   "cell_type": "code",
   "execution_count": null,
   "metadata": {},
   "outputs": [],
   "source": [
    "# List all Participant IDs\n",
    "df_hourly_demand['participant'].unique()"
   ]
  },
  {
   "cell_type": "code",
   "execution_count": null,
   "metadata": {},
   "outputs": [],
   "source": [
    "# Count Participant IDs present in the data\n",
    "df_hourly_demand['participant'].nunique()"
   ]
  },
  {
   "cell_type": "markdown",
   "metadata": {},
   "source": [
    "### Resources"
   ]
  },
  {
   "cell_type": "code",
   "execution_count": null,
   "metadata": {},
   "outputs": [],
   "source": [
    "# List all Resource IDs\n",
    "df_hourly_demand['resource'].unique()"
   ]
  },
  {
   "cell_type": "code",
   "execution_count": null,
   "metadata": {},
   "outputs": [],
   "source": [
    "# Count Resource IDs present in the data\n",
    "df_hourly_demand['resource'].nunique()"
   ]
  },
  {
   "cell_type": "markdown",
   "metadata": {},
   "source": [
    "### Price [Excluded]"
   ]
  },
  {
   "cell_type": "markdown",
   "metadata": {},
   "source": [
    "- For the purposes of **Data Cleaning** in this study, we decided to ignore the 'prices' column. \\\n",
    "Price of 0 happens quite often in the market when there is a surplus of supply in one locale."
   ]
  },
  {
   "cell_type": "code",
   "execution_count": null,
   "metadata": {},
   "outputs": [],
   "source": [
    "# Check if there are rows with negative price\n",
    "# df_hourly_demand[df_hourly_demand['price'] < 0.0]\n",
    "### Observation: There are rows with negative prices."
   ]
  },
  {
   "cell_type": "code",
   "execution_count": null,
   "metadata": {},
   "outputs": [],
   "source": [
    "# Check if there are rows with 0 as price\n",
    "# df_hourly_demand[df_hourly_demand['price'] == 0.0]\n",
    "### Observation: There are rows with negative prices.                 "
   ]
  },
  {
   "cell_type": "code",
   "execution_count": null,
   "metadata": {},
   "outputs": [],
   "source": [
    "# Check all rows with negative price and with price of 0\n",
    "# df_hourly_demand[df_hourly_demand['price'] <= 0.0]"
   ]
  },
  {
   "cell_type": "code",
   "execution_count": null,
   "metadata": {},
   "outputs": [],
   "source": [
    "# Remove rows with negative price and with price of 0\n",
    "# df_hourly_demand = df_hourly_demand[df_hourly_demand['price'] <= 0.0]"
   ]
  },
  {
   "cell_type": "code",
   "execution_count": null,
   "metadata": {},
   "outputs": [],
   "source": [
    "# df_hourly_demand.describe()"
   ]
  },
  {
   "cell_type": "markdown",
   "metadata": {},
   "source": [
    "### Duplicate / missing data"
   ]
  },
  {
   "cell_type": "markdown",
   "metadata": {},
   "source": [
    "- Duplicate data"
   ]
  },
  {
   "cell_type": "code",
   "execution_count": null,
   "metadata": {},
   "outputs": [],
   "source": [
    "# Check for duplicate rows\n",
    "df_hourly_demand.date.value_counts()\n",
    "\n",
    "### Observation: There seems to be duplicates, especially in 1-Apr-2019"
   ]
  },
  {
   "cell_type": "code",
   "execution_count": null,
   "metadata": {},
   "outputs": [],
   "source": [
    "# Check for duplicates in 'date_hour'\n",
    "df_hourly_demand.date_hour.value_counts()\n",
    "\n",
    "### Observation: We can see some duplicates in 1-Apr-2019"
   ]
  },
  {
   "cell_type": "code",
   "execution_count": null,
   "metadata": {},
   "outputs": [],
   "source": [
    "# Check duplicate rows\n",
    "df_hourly_demand[df_hourly_demand.duplicated(subset=['date','hour','resource'])].sort_values(by=['resource', 'date', 'hour'], ascending=True)"
   ]
  },
  {
   "cell_type": "code",
   "execution_count": null,
   "metadata": {},
   "outputs": [],
   "source": [
    "df_hourly_demand[df_hourly_demand.duplicated(subset=['date','hour','resource'])]['date_hour'].unique()\n",
    "### Observation: Duplicates are present in 1-Apr-2019 only"
   ]
  },
  {
   "cell_type": "code",
   "execution_count": null,
   "metadata": {},
   "outputs": [],
   "source": [
    "# Drop duplicate rows\n",
    "df_hourly_demand = df_hourly_demand.drop_duplicates(subset=['date','hour','resource'], keep='first')"
   ]
  },
  {
   "cell_type": "code",
   "execution_count": null,
   "metadata": {},
   "outputs": [],
   "source": [
    "# Check 'date' count\n",
    "df_hourly_demand.date.value_counts().unique()"
   ]
  },
  {
   "cell_type": "code",
   "execution_count": null,
   "metadata": {},
   "outputs": [],
   "source": [
    "# Check 'date_hour' count\n",
    "df_hourly_demand.date_hour.value_counts().unique()"
   ]
  },
  {
   "cell_type": "markdown",
   "metadata": {},
   "source": [
    "- Missing data"
   ]
  },
  {
   "cell_type": "code",
   "execution_count": null,
   "metadata": {},
   "outputs": [],
   "source": [
    "# Check for excess/missing data in date-hours\n",
    "print(df_hourly_demand['date'].nunique())\n",
    "print('*')\n",
    "print(df_hourly_demand['hour'].nunique())\n",
    "print('')\n",
    "print('=')\n",
    "print((df_hourly_demand['date'].nunique()) * (df_hourly_demand['hour'].nunique()))\n",
    "print('')\n",
    "print('vs.')\n",
    "print(df_hourly_demand['date_hour'].nunique())"
   ]
  },
  {
   "cell_type": "code",
   "execution_count": null,
   "metadata": {},
   "outputs": [],
   "source": [
    "( (df_hourly_demand['date'].nunique()) * (df_hourly_demand['hour'].nunique()) ) \\\n",
    "- df_hourly_demand['date_hour'].nunique()\n",
    "\n",
    "#### Observation: Four date-hours lack data\n",
    "#### Note: Only resources from outside Luzon has been dropped"
   ]
  },
  {
   "cell_type": "code",
   "execution_count": null,
   "metadata": {},
   "outputs": [],
   "source": [
    "# Check date-hours\n",
    "df_hourly_demand.groupby(['date_hour'])[['mw']].sum().sort_values(by='mw', ascending=True)\n",
    "#### Observation: Date-hours with 0.0 MW are not in the dataframe"
   ]
  },
  {
   "cell_type": "code",
   "execution_count": null,
   "metadata": {},
   "outputs": [],
   "source": [
    "# Check missing date-hours\n",
    "\n",
    "df_hourly_demand = df_hourly_demand.set_index(pd.to_datetime(df_hourly_demand['date_hour']))\n",
    "\n",
    "luzon_total_hourly_demand = df_hourly_demand[['mw']].resample('H').sum()\n",
    "luzon_total_hourly_demand[luzon_total_hourly_demand['mw'] < 1]"
   ]
  },
  {
   "cell_type": "code",
   "execution_count": null,
   "metadata": {},
   "outputs": [],
   "source": [
    "# Calculate and assign the value to use for missing date-hours\n",
    "### Note: Use average of the past 30 days "
   ]
  },
  {
   "cell_type": "code",
   "execution_count": null,
   "metadata": {},
   "outputs": [],
   "source": [
    "# 2019-10-24 02:00:00\n",
    "df = df_hourly_demand[['mw', 'hour_int']].resample('H').sum()\n",
    "\n",
    "df_10_24_2 = df[df['hour_int']==2] #Recheck if empty\n",
    "df_10_24_2 = df['2019-9-24 02:00:00':'2019-10-24 02:00:00'] #Get previous month\n",
    "df_10_24_2 = df_10_24_2['mw'].mean() #Take average of previous month\n",
    "df_10_24_2 #Check calc"
   ]
  },
  {
   "cell_type": "code",
   "execution_count": null,
   "metadata": {},
   "outputs": [],
   "source": [
    "luzon_total_hourly_demand.loc['2019-10-24 02:00:00'] = df_10_24_2\n",
    "luzon_total_hourly_demand.loc['2019-10-24 02:00:00']"
   ]
  },
  {
   "cell_type": "code",
   "execution_count": null,
   "metadata": {},
   "outputs": [],
   "source": [
    "# 2019-10-24 03:00:00\n",
    "df = df_hourly_demand[['mw', 'hour_int']].resample('H').sum()\n",
    "\n",
    "df_10_24_3 = df[df['hour_int']==3]\n",
    "df_10_24_3 = df['2019-9-24 03:00:00':'2019-10-24 03:00:00']\n",
    "df_10_24_3 = df_10_24_3['mw'].mean()\n",
    "df_10_24_3"
   ]
  },
  {
   "cell_type": "code",
   "execution_count": null,
   "metadata": {},
   "outputs": [],
   "source": [
    "luzon_total_hourly_demand.loc['2019-10-24 03:00:00'] = df_10_24_3\n",
    "luzon_total_hourly_demand.loc['2019-10-24 03:00:0']"
   ]
  },
  {
   "cell_type": "code",
   "execution_count": null,
   "metadata": {},
   "outputs": [],
   "source": [
    "# 2019-11-18 09:00:00\n",
    "df = df_hourly_demand[['mw', 'hour_int']].resample('H').sum()\n",
    "\n",
    "df_11_18_9 = df[df['hour_int']==9]\n",
    "df_11_18_9 = df['2019-10-18 09:00:00':'2019-11-18 09:00:00']\n",
    "df_11_18_9 = df_11_18_9['mw'].mean()\n",
    "df_11_18_9"
   ]
  },
  {
   "cell_type": "code",
   "execution_count": null,
   "metadata": {},
   "outputs": [],
   "source": [
    "luzon_total_hourly_demand.loc['2019-11-18 09:00:00'] = df_11_18_9\n",
    "luzon_total_hourly_demand.loc['2019-11-18 09:00:00']"
   ]
  },
  {
   "cell_type": "code",
   "execution_count": null,
   "metadata": {},
   "outputs": [],
   "source": [
    "# 2019-11-24 22:00:00\n",
    "df = df_hourly_demand[['mw', 'hour_int']].resample('H').sum()\n",
    "\n",
    "df_11_24_22 = df[df['hour_int']==22]\n",
    "df_11_24_22 = df['2019-10-24 22:00:00':'2019-11-24 22:00:00']\n",
    "df_11_24_22 = df_11_24_22['mw'].mean()\n",
    "df_11_24_22"
   ]
  },
  {
   "cell_type": "code",
   "execution_count": null,
   "metadata": {},
   "outputs": [],
   "source": [
    "luzon_total_hourly_demand.loc['2019-11-24 22:00:00'] = df_11_24_22\n",
    "luzon_total_hourly_demand.loc['2019-11-24 22:00:00']"
   ]
  },
  {
   "cell_type": "code",
   "execution_count": null,
   "metadata": {},
   "outputs": [],
   "source": [
    "# Check date-hours\n",
    "luzon_total_hourly_demand[luzon_total_hourly_demand['mw'] < 1]"
   ]
  },
  {
   "cell_type": "code",
   "execution_count": null,
   "metadata": {},
   "outputs": [],
   "source": [
    "luzon_total_hourly_demand.describe()"
   ]
  },
  {
   "cell_type": "markdown",
   "metadata": {},
   "source": [
    "#### Demand"
   ]
  },
  {
   "cell_type": "code",
   "execution_count": null,
   "metadata": {},
   "outputs": [],
   "source": [
    "#### Set threshold of 1.0 or 5.0 MW per resource ID\n",
    "#### Set threshold of 1.0 or 5.0 MW daily sum per resource ID [Pending]"
   ]
  },
  {
   "cell_type": "code",
   "execution_count": null,
   "metadata": {},
   "outputs": [],
   "source": [
    "df_hourly_demand['mw'].describe()"
   ]
  },
  {
   "cell_type": "markdown",
   "metadata": {},
   "source": [
    "- Resources with low demand (i.e. **not reaching 5.0 MW**) throughout the dataset"
   ]
  },
  {
   "cell_type": "code",
   "execution_count": null,
   "metadata": {},
   "outputs": [],
   "source": [
    "# Check total demand per Resource ID\n",
    "df_hourly_demand.groupby(['resource'])[['mw']].sum().reset_index()"
   ]
  },
  {
   "cell_type": "code",
   "execution_count": null,
   "metadata": {},
   "outputs": [],
   "source": [
    "# Check Resousce IDs with total demand < 1.0 MW\n",
    "df_hourly_demand_total = df_hourly_demand.groupby(['resource'])[['mw']].sum().reset_index()\n",
    "df_hourly_demand_total[df_hourly_demand_total['mw'] < 1.0]\n",
    "### Observation: 80 Resource IDs have total demand of less than 1.0 MW throughout the data set"
   ]
  },
  {
   "cell_type": "code",
   "execution_count": null,
   "metadata": {},
   "outputs": [],
   "source": [
    "# Check Resousce IDs with total demand < 5.0 MW\n",
    "df_hourly_demand_low = df_hourly_demand_total[df_hourly_demand_total['mw'] < 5.0]\n",
    "df_hourly_demand_low\n",
    "### Observation: Difference is only 1 Resource ID."
   ]
  },
  {
   "cell_type": "code",
   "execution_count": null,
   "metadata": {},
   "outputs": [],
   "source": [
    "df_hourly_demand_low_id = df_hourly_demand_low['resource'].unique()\n",
    "df_hourly_demand_low_id"
   ]
  },
  {
   "cell_type": "code",
   "execution_count": null,
   "metadata": {},
   "outputs": [],
   "source": [
    "df_hourly_demand_low['resource'].nunique()"
   ]
  },
  {
   "cell_type": "code",
   "execution_count": null,
   "metadata": {},
   "outputs": [],
   "source": [
    "# Remove Resource IDs with total demand < 5.0 MW\n",
    "# Include only Resource IDs with total demand >= 5.0 MW\n",
    "df_hourly_demand = df_hourly_demand[~df_hourly_demand['resource'].isin(df_hourly_demand_low_id)]\n",
    "df_hourly_demand"
   ]
  },
  {
   "cell_type": "code",
   "execution_count": null,
   "metadata": {},
   "outputs": [],
   "source": [
    "# Check of supposedly dropped Resource ID\n",
    "df_hourly_demand[df_hourly_demand['resource']=='1AMBUK_SS']"
   ]
  },
  {
   "cell_type": "code",
   "execution_count": null,
   "metadata": {},
   "outputs": [],
   "source": [
    "# Count of remaining included Resource IDs\n",
    "df_hourly_demand['resource'].nunique()"
   ]
  },
  {
   "cell_type": "code",
   "execution_count": null,
   "metadata": {},
   "outputs": [],
   "source": [
    "# Check of count of remaining included Resource IDs\n",
    "264 - (df_hourly_demand['resource'].nunique()) == (df_hourly_demand_low['resource'].nunique())"
   ]
  },
  {
   "cell_type": "markdown",
   "metadata": {},
   "source": [
    "# Save data sets\n",
    "Export final csv file to be used in clustering."
   ]
  },
  {
   "cell_type": "markdown",
   "metadata": {},
   "source": [
    "- Demand per resource per hour"
   ]
  },
  {
   "cell_type": "code",
   "execution_count": null,
   "metadata": {},
   "outputs": [],
   "source": [
    "# Preview\n",
    "df_hourly_demand"
   ]
  },
  {
   "cell_type": "code",
   "execution_count": null,
   "metadata": {},
   "outputs": [],
   "source": [
    "df_hourly_demand.info()"
   ]
  },
  {
   "cell_type": "code",
   "execution_count": null,
   "metadata": {},
   "outputs": [],
   "source": [
    "df_hourly_demand.describe()"
   ]
  },
  {
   "cell_type": "code",
   "execution_count": null,
   "metadata": {},
   "outputs": [],
   "source": [
    "# Export as csv file\n",
    "#df_hourly_demand.to_csv('Hourly_Demand_Clean.csv', index=False)"
   ]
  },
  {
   "cell_type": "markdown",
   "metadata": {},
   "source": [
    "- Total demand per hour"
   ]
  },
  {
   "cell_type": "code",
   "execution_count": null,
   "metadata": {},
   "outputs": [],
   "source": [
    "# Preview\n",
    "luzon_total_hourly_demand"
   ]
  },
  {
   "cell_type": "code",
   "execution_count": null,
   "metadata": {},
   "outputs": [],
   "source": [
    "luzon_total_hourly_demand.info()"
   ]
  },
  {
   "cell_type": "code",
   "execution_count": null,
   "metadata": {},
   "outputs": [],
   "source": [
    "luzon_total_hourly_demand.describe()"
   ]
  },
  {
   "cell_type": "code",
   "execution_count": null,
   "metadata": {},
   "outputs": [],
   "source": [
    "# Export as csv file\n",
    "#luzon_total_hourly_demand.to_csv('Hourly_Demand_Clean.csv', index=False)"
   ]
  },
  {
   "cell_type": "markdown",
   "metadata": {},
   "source": [
    "# Exploratory data analysis\n",
    "Further analyses using clean data set."
   ]
  },
  {
   "cell_type": "code",
   "execution_count": null,
   "metadata": {},
   "outputs": [],
   "source": [
    "# Load clean data set\n",
    "df_hourly_demand = pd.read_csv('Hourly_Demand_Clean.csv')"
   ]
  },
  {
   "cell_type": "code",
   "execution_count": null,
   "metadata": {},
   "outputs": [],
   "source": [
    "# Preview clean data set\n",
    "df_hourly_demand"
   ]
  },
  {
   "cell_type": "code",
   "execution_count": null,
   "metadata": {},
   "outputs": [],
   "source": [
    "# Check information on columns\n",
    "df_hourly_demand.info()"
   ]
  },
  {
   "cell_type": "code",
   "execution_count": null,
   "metadata": {},
   "outputs": [],
   "source": [
    "# Check descriptive statistics on numerical columns\n",
    "df_hourly_demand.describe()"
   ]
  },
  {
   "cell_type": "markdown",
   "metadata": {},
   "source": [
    "#### Hourly energy demand in a day"
   ]
  },
  {
   "cell_type": "code",
   "execution_count": null,
   "metadata": {},
   "outputs": [],
   "source": [
    "# Plot chart\n",
    "### Note: Use of lineplot - Passing the entire dataset in long-form mode will aggregate over repeated values (each year) to show the mean and 95% confidence interval"
   ]
  },
  {
   "cell_type": "code",
   "execution_count": null,
   "metadata": {},
   "outputs": [],
   "source": [
    "# Group data\n",
    "chart_hourly_demand = df_hourly_demand.groupby(['resource', 'date', 'hour_int'])[['mw']].sum()\n",
    "chart_hourly_demand"
   ]
  },
  {
   "cell_type": "markdown",
   "metadata": {},
   "source": [
    "- Throughout the data set"
   ]
  },
  {
   "cell_type": "code",
   "execution_count": null,
   "metadata": {},
   "outputs": [],
   "source": [
    "# Plot average power demand for all Luzon resources\n",
    "### Formatting\n",
    "sns.set_style(\"darkgrid\")\n",
    "\n",
    "sns.lineplot(data=df_hourly_demand, x='date', y='mw', color='orange')\n",
    "\n",
    "### Formatting\n",
    "plt.xlabel(\"\")\n",
    "plt.ylabel(\"Demand (MW)\")\n",
    "plt.figure()\n",
    "\n",
    "# To clean x-axis formatting (too crowded)"
   ]
  },
  {
   "cell_type": "code",
   "execution_count": null,
   "metadata": {},
   "outputs": [],
   "source": [
    "# Plot average power demand per hour\n",
    "### Formatting\n",
    "sns.set_style(\"ticks\")\n",
    "\n",
    "### All\n",
    "# Filter data as needed\n",
    "sns.lineplot(data=df_hourly_demand, x='hour_int', y='mw', color='orange', marker='o')\n",
    "\n",
    "### Formatting\n",
    "plt.xlabel(\"Hour\")\n",
    "plt.ylabel(\"Demand (MW)\")"
   ]
  },
  {
   "cell_type": "code",
   "execution_count": null,
   "metadata": {},
   "outputs": [],
   "source": [
    "# Plot average power demand per hour of a specific resource\n",
    "### Note: Input resource ID to be examined.\n",
    "\n",
    "#ResourceID = ''\n",
    "# Filter as needed\n",
    "#sns.lineplot(data=df_hourly_demand[df_hourly_demand['resource']==ResourceID], x='hour', y='mw')"
   ]
  },
  {
   "cell_type": "code",
   "execution_count": null,
   "metadata": {},
   "outputs": [],
   "source": [
    "# Plot average power demand per hour per resource of all resources\n",
    "sns.set_style(\"ticks\")\n",
    "\n",
    "sns.lineplot(data=df_hourly_demand, x='hour_int', y='mw', hue='resource', legend=False)\n",
    "\n",
    "plt.xlabel(\"Hour\") \n",
    "plt.ylabel(\"Demand (MW)\")"
   ]
  },
  {
   "cell_type": "markdown",
   "metadata": {},
   "source": [
    "- Prior quarantine"
   ]
  },
  {
   "cell_type": "code",
   "execution_count": null,
   "metadata": {},
   "outputs": [],
   "source": [
    "# Plot chart for all Luzon resources\n",
    "### Note: Relevant dates from our data set: 1-Jan-2019 to 14-Mar-2020\n",
    "sns.set_style(\"ticks\")\n",
    "sns.lineplot(data = df_hourly_demand[(df_hourly_demand['date']>='2019-01-01 00:00:00') & (df_hourly_demand['date']<='2020-03-14 23:00:00')], x='hour_int', y='mw', hue='resource') #, legend=False)\n",
    "plt.xlabel(\"Hour\")\n",
    "plt.ylabel(\"Demand (MW)\")"
   ]
  },
  {
   "cell_type": "code",
   "execution_count": null,
   "metadata": {},
   "outputs": [],
   "source": [
    "###\n",
    "# Plot chart for all Luzon resources\n",
    "### Note: Relevant dates from our data set: 1-Jan-2019 to 14-Mar-2020\n",
    "sns.lineplot(data = df_hourly_demand[(df_hourly_demand['date']>='2019-01-01 00:00:00') & (df_hourly_demand['date']<='2020-03-14 23:00:00')], x='hour_int', y='mw', hue='resource')\n",
    "plt.xlabel(\"Hour\")\n",
    "plt.ylabel(\"Demand (MW)\")"
   ]
  },
  {
   "cell_type": "markdown",
   "metadata": {},
   "source": [
    "- During quarantine"
   ]
  },
  {
   "cell_type": "code",
   "execution_count": null,
   "metadata": {
    "scrolled": true
   },
   "outputs": [],
   "source": [
    "# Plot chart for all Luzon resources\n",
    "### Note: Relevant dates from our data set: 15-Mar-2020 to 15-Jul-2020\n",
    "sns.lineplot(data = df_hourly_demand[(df_hourly_demand['date']>='2020-03-15') & (df_hourly_demand['date']<='2020-07-15')], x='hour_int', y='mw', hue='resource', legend=False)\n",
    "plt.xlabel(\"Hour\")\n",
    "plt.ylabel(\"Demand (MW)\")"
   ]
  },
  {
   "cell_type": "markdown",
   "metadata": {},
   "source": [
    "- Before vs. during quarantine"
   ]
  },
  {
   "cell_type": "code",
   "execution_count": null,
   "metadata": {},
   "outputs": [],
   "source": [
    "# Plot average power demand for all Luzon resources\n",
    "### Formatting\n",
    "sns.set_style(\"ticks\")\n",
    "\n",
    "### All\n",
    "sns.lineplot(data=df_hourly_demand, x='hour_int', y='mw', color='orange', label='All data')\n",
    "\n",
    "### Before quarantine\n",
    "sns.lineplot(data = df_hourly_demand[(df_hourly_demand['date']>='2019-01-01') & (df_hourly_demand['date']<='2020-03-14')], x='hour_int', y='mw', color='orangered', label='Before quarantine', linestyle='--')\n",
    "\n",
    "### After quarantine\n",
    "sns.lineplot(data = df_hourly_demand[(df_hourly_demand['date']>='2020-03-15') & (df_hourly_demand['date']<='2020-07-15')], x='hour_int', y='mw', color='darkred', label='After quarantine', linestyle='--')\n",
    "\n",
    "### Formatting\n",
    "plt.legend(frameon=False)\n",
    "plt.xlabel(\"Hour\")\n",
    "plt.ylabel(\"Demand (MW)\")"
   ]
  },
  {
   "cell_type": "markdown",
   "metadata": {},
   "source": [
    "[Joleil Villena](https://linkedin.com/in/joleilvillena) - Eskwelabs DS Cohort 5 - Capstone"
   ]
  }
 ],
 "metadata": {
  "kernelspec": {
   "display_name": "Python 3",
   "language": "python",
   "name": "python3"
  },
  "language_info": {
   "codemirror_mode": {
    "name": "ipython",
    "version": 3
   },
   "file_extension": ".py",
   "mimetype": "text/x-python",
   "name": "python",
   "nbconvert_exporter": "python",
   "pygments_lexer": "ipython3",
   "version": "3.8.3"
  }
 },
 "nbformat": 4,
 "nbformat_minor": 4
}
